{
 "cells": [
  {
   "cell_type": "code",
   "execution_count": 1,
   "id": "1e4fb9bc-5995-46f9-86d9-898c5259eff7",
   "metadata": {},
   "outputs": [
    {
     "name": "stdout",
     "output_type": "stream",
     "text": [
      "Requirement already satisfied: opencv-python in /opt/conda/lib/python3.9/site-packages (4.6.0.66)\n",
      "Requirement already satisfied: numpy>=1.19.3 in /opt/conda/lib/python3.9/site-packages (from opencv-python) (1.21.6)\n"
     ]
    }
   ],
   "source": [
    "!pip install opencv-python\n",
    "\n",
    "from osgeo_utils.gdal_pansharpen import gdal_pansharpen\n",
    "import rasterio as rio\n",
    "from rasterio.enums import Resampling\n",
    "from osgeo import gdal\n",
    "from Simple_Pansharpen import *\n",
    "import os\n",
    "\n",
    "%load_ext lab_black"
   ]
  },
  {
   "cell_type": "markdown",
   "id": "ffe456ba-50a7-4325-964c-e9ef39d8070c",
   "metadata": {},
   "source": [
    "## Pansharpening"
   ]
  },
  {
   "cell_type": "markdown",
   "id": "52e3e699-ccb9-4d4b-91b7-4393da859cec",
   "metadata": {},
   "source": [
    "Here I am creating a wrapper function to include both pansharpen() and gdal_pansharpen(). The pansharpen() function was taken from Thomas Wang's Simple_Pansharpen.py script (https://github.com/ThomasWangWeiHong/Simple-Pansharpening-Algorithms/blob/master/Simple_Pansharpen.py). For the purpose of this project, only the 'Simple Mean' method was considered."
   ]
  },
  {
   "cell_type": "code",
   "execution_count": 2,
   "id": "9bc60a53-358d-4bee-ba52-27358f3b6224",
   "metadata": {},
   "outputs": [],
   "source": [
    "# If user selects Simple Mean pansharpening, Thomas Wang's method is applied. Otherwise, gdal_pansharpen() is used\n",
    "def wrapper_pansharpen(\n",
    "    pan_name,\n",
    "    dst_filename,\n",
    "    spectral_names,\n",
    "    simple_mean=False,\n",
    "    band_nums=None,\n",
    "    weights=None,\n",
    "    resampling=None,\n",
    "    spat_adjust=None,\n",
    "    bitdepth=None,\n",
    "    nodata_value=False,\n",
    "):\n",
    "    \"\"\"\n",
    "    This function combines the simple_mean pansharpening developed by Thomas Wang and the pansharpening tool from GDAL.\n",
    "\n",
    "    Inputs:\n",
    "    - pan_name: File path of the higher resolution image to be used for pansharpening\n",
    "    - spectral_names: File path of the coarser image to undergo pansharpening\n",
    "    - band_nums: bands in the coarser image to undergo pansharpening when not applied to the whole dataset\n",
    "    - weights: Specify a weight for the computation of the pseudo panchromatic value. There must be as many -w switches as input spectral bands\n",
    "    - dst_filename: File path of pansharpened dataset to be written to file\n",
    "    - resampling: Select a resampling algorithm (nearest, bilinear, cubic [default], cubicspline, lanczos, average)\n",
    "    - spat_adjust: Select behavior when bands have not the same extent (union [default], intersection, none, nonewithoutwarning)\n",
    "    - bitdepth: Specify the bit depth of the panchromatic and spectral bands (e.g. 12). If not specified, the NBITS metadata item from the panchromatic band will be used if it exists.\n",
    "    - nodata_value: Specify nodata value for bands. Used for the resampling and pan-sharpening computation itself. If not set, deduced from the input bands, provided they have a consistent setting.\n",
    "    - simple_mean: if True, pansharpening is performed using the pansharpen_simple_mean() function. Otherwise, gdal_pansharpen() is selected\n",
    "\n",
    "    \"\"\"\n",
    "    if simple_mean == True:\n",
    "        pansharpen(spectral_names, pan_name, dst_filename, method=\"simple_mean\")\n",
    "    else:\n",
    "        gdal_pansharpen(\n",
    "            pan_name=pan_name,\n",
    "            spectral_names=[spectral_names],\n",
    "            band_nums=band_nums,\n",
    "            weights=weights,\n",
    "            dst_filename=dst_filename,\n",
    "            resampling=resampling,\n",
    "            spat_adjust=spat_adjust,\n",
    "            bitdepth=bitdepth,\n",
    "            nodata_value=nodata_value,\n",
    "        )\n",
    "\n",
    "    return dst_filename"
   ]
  },
  {
   "cell_type": "markdown",
   "id": "bb4fb032-890a-4af9-b872-057231a97ccc",
   "metadata": {},
   "source": [
    "## Stacking\n",
    "The next function was adapted from P. Wiringa's personal communication (November 23, 2022)."
   ]
  },
  {
   "cell_type": "code",
   "execution_count": 3,
   "id": "042af8f3-a7a3-46fe-8e35-cf3238c80ec0",
   "metadata": {},
   "outputs": [],
   "source": [
    "def stack_bands(pan_name, psh_names, dst_filename):\n",
    "    \"\"\"\n",
    "    This function stacks the panchromatic band and the pansharpened dataset into a new raster file.\n",
    "\n",
    "    Inputs:\n",
    "    - pan_name: File path of the panchromatic band\n",
    "    - psh_names: File path of the pansharpened dataset\n",
    "    - dst_filename: File path of the stacked raster\n",
    "\n",
    "    \"\"\"\n",
    "    rasters = [pan_name, psh_names]\n",
    "\n",
    "    # Add up the number of bands to be stacked from the two input rasters\n",
    "    sum_bands = sum([rio.open(rast).meta[\"count\"] for rast in rasters])\n",
    "\n",
    "    # Read the metadata of the panchromatic band and add the total number of bands to be stacked\n",
    "    src = rio.open(rasters[0])\n",
    "    meta = src.meta\n",
    "    meta[\"count\"] = sum_bands\n",
    "\n",
    "    with rio.open(dst_filename, \"w\", **meta) as _out:\n",
    "        out_band_index = 0  # Counter\n",
    "        for raster in rasters:\n",
    "            with rio.open(raster) as _in:\n",
    "                num_bands = _in.meta[\"count\"]\n",
    "                for src_band in range(1, num_bands + 1):\n",
    "                    out_band_index += 1\n",
    "                    # Stacking\n",
    "                    _out.write(_in.read(src_band), out_band_index)"
   ]
  },
  {
   "cell_type": "markdown",
   "id": "6acb1b73-c0f0-4e57-ba2c-62c60b4d32ef",
   "metadata": {},
   "source": [
    "## Pyramids\n",
    "Adapted from https://rasterio.readthedocs.io/en/latest/topics/overviews.html"
   ]
  },
  {
   "cell_type": "code",
   "execution_count": 4,
   "id": "755b9141-6340-4221-9c4c-2503de357870",
   "metadata": {},
   "outputs": [],
   "source": [
    "def create_pyramids(ds, resampling):\n",
    "    \"\"\"\n",
    "    This function generates raster overviews for easy visualization\n",
    "\n",
    "    Inputs:\n",
    "    - ds: File path of pansharpened dataset\n",
    "    - resampling: resampling algorithm\n",
    "\n",
    "    \"\"\"\n",
    "    factors = [2, 4, 8, 16]\n",
    "    dst = rasterio.open(ds, \"r+\")\n",
    "    dst.build_overviews(factors, resampling)\n",
    "    dst.update_tags(ns=\"rio_overview\", resampling=str(resampling)[11:])\n",
    "    dst.close()"
   ]
  },
  {
   "cell_type": "markdown",
   "id": "e89b5f61-40f1-4193-8b2d-637c9267d84e",
   "metadata": {},
   "source": [
    "The following cell confirms that create_pyramids() is effective at generating the overviews with the resampling method indicated by the user. Nonetheless, these pyramids are not shown in software such as ArcGIS and QGIS since it seems they generate their own pyramids. Indeed, in ArcMap, a raster without pyramids is displayed as is. But when pyramids are generated here, the raster is shown with nearest-neighbor-resampled pyramids, which is the default option. It is worth mentioning that ArcMap only has 3 resampling techniques for pyramid generation: nearest neighbor, bilinear interpolation, and cubic convolution."
   ]
  },
  {
   "cell_type": "code",
   "execution_count": 5,
   "id": "ccf119d8-a7e6-4888-9290-3179f3fc6312",
   "metadata": {},
   "outputs": [
    {
     "data": {
      "text/plain": [
       "'mode'"
      ]
     },
     "execution_count": 5,
     "metadata": {},
     "output_type": "execute_result"
    }
   ],
   "source": [
    "create_pyramids(\"pansharpened.tif\", Resampling.mode)\n",
    "\n",
    "src = rasterio.open(\"pansharpened.tif\", \"r\")\n",
    "[src.overviews(i) for i in src.indexes]\n",
    "src.tags(ns=\"rio_overview\").get(\"resampling\")"
   ]
  },
  {
   "cell_type": "markdown",
   "id": "582823ac-9024-4011-935e-2805c0938726",
   "metadata": {},
   "source": [
    "## Statistics\n",
    "gdal.Translate() was found to create statistics. This tool was wrapped up into another function that receives only one parameter. As gdal.Translate() generates band statistics only for the input raster, a temporary file is necessary as gdal.Translate requires an output/destination name and this cannot be the same input name. "
   ]
  },
  {
   "cell_type": "code",
   "execution_count": 6,
   "id": "9f5358b1-ae0b-4440-b79d-a293f81d70cb",
   "metadata": {},
   "outputs": [],
   "source": [
    "def calculate_stats(raster):\n",
    "    \"\"\"\n",
    "    This function uses gdal.Translate to specifically create band statistics.\n",
    "\n",
    "    Inputs:\n",
    "    raster: File path of the raster dataset\n",
    "\n",
    "    \"\"\"\n",
    "    name = \"stats.tif\"  # Temporary file\n",
    "    gdal.Translate(destName=name, srcDS=raster, stats=True)\n",
    "    os.remove(name)"
   ]
  },
  {
   "cell_type": "markdown",
   "id": "6e289f5c-42f9-4135-ae2c-b47a3b564b4c",
   "metadata": {},
   "source": [
    "## Resampling\n",
    "In addition to the pansharpening tool, this project aims to create an up-and-downsampling tool where the users can change (resample) the cell size of their raster datasets without any external bands. Once again, a simplified gdal.Translate() function was chosen to resample the rasters."
   ]
  },
  {
   "cell_type": "code",
   "execution_count": 7,
   "id": "ccc656d3-ece3-4c37-ade7-744bda895f31",
   "metadata": {},
   "outputs": [],
   "source": [
    "def resize(output_name, ds, Res, resampling, of=\"GTiff\", ot=None):\n",
    "    \"\"\"\n",
    "    This function resamples raster datasets without the use of an external band based only on resolution values inputed by the user.\n",
    "    It benefits from gdal.Translate()\n",
    "\n",
    "    Inputs:\n",
    "    - output_name: File path to the output raster resized\n",
    "    - ds: File path of input dataset\n",
    "    - Res: The new size of the cells\n",
    "    - resampling: resampling algorithm (nearest [default], bilinear, cubic, cubicspline, lanczos, average, rms, mode)\n",
    "    - of: output format (GTiff is deafault)\n",
    "    - ot: output type (Byte, UInt16, Int16, UInt32, Int32, Float32, Float64, CInt16, CInt32, CFloat32 or CFloat64)\n",
    "\n",
    "    \"\"\"\n",
    "\n",
    "    gdal.Translate(\n",
    "        output_name, ds, xRes=Res, yRes=Res, resampleAlg=resampling, format=of\n",
    "    )"
   ]
  }
 ],
 "metadata": {
  "kernelspec": {
   "display_name": "Python 3 (ipykernel)",
   "language": "python",
   "name": "python3"
  },
  "language_info": {
   "codemirror_mode": {
    "name": "ipython",
    "version": 3
   },
   "file_extension": ".py",
   "mimetype": "text/x-python",
   "name": "python",
   "nbconvert_exporter": "python",
   "pygments_lexer": "ipython3",
   "version": "3.9.7"
  }
 },
 "nbformat": 4,
 "nbformat_minor": 5
}
