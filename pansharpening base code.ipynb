{
 "cells": [
  {
   "cell_type": "code",
   "execution_count": 3,
   "id": "f58b5bd5-8bd1-4614-8d7a-a93d4adc10d9",
   "metadata": {},
   "outputs": [],
   "source": [
    "pip install numpy==1.21.6\n",
    "pip install opencv-python"
   ]
  },
  {
   "cell_type": "code",
   "execution_count": 98,
   "id": "d102b65b-fc31-4fa4-9f39-999125fce4b0",
   "metadata": {},
   "outputs": [],
   "source": [
    "from osgeo_utils.gdal_pansharpen import gdal_pansharpen\n",
    "import rasterio\n",
    "from rasterio.merge import merge\n",
    "from rasterio.enums import Resampling\n",
    "from rasterio.warp import calculate_default_transform\n",
    "from osgeo import gdal\n",
    "import rioxarray\n",
    "import xarray as xr\n",
    "from Simple_Pansharpen import *"
   ]
  },
  {
   "cell_type": "code",
   "execution_count": 3,
   "id": "ec5e0b77-e87d-43ab-9155-48ddbc821764",
   "metadata": {},
   "outputs": [],
   "source": [
    "%load_ext lab_black"
   ]
  },
  {
   "cell_type": "markdown",
   "id": "bf1af0da-131f-4e5e-85fc-7e38b87cba3b",
   "metadata": {},
   "source": [
    "Here I am creating a wrapper function to include both pansharpen() and gdal_pansharpen(). The pansharpen() function was taken from Thomas Wang's Simple_Pansharpen.py script (https://github.com/ThomasWangWeiHong/Simple-Pansharpening-Algorithms/blob/master/Simple_Pansharpen.py). For the purpose of this project, only the 'Simple Mean' method was considered."
   ]
  },
  {
   "cell_type": "markdown",
   "id": "c16d485d-8f99-48a2-9b42-8f1d2dece8eb",
   "metadata": {},
   "source": [
    "This block of code is working for now only for the simple mean. As gdal_pansharpen() receives a list (sequence) as a parameter for spectral_names and pansharpen() a string, I have not found a way to reconcile both. I tried to put 'spectral_names' inside of a list as shown in the code, but it isn't working. I also tried to call the function as the following example and again it produced a 'Not a sequence' error message.\n",
    "\n",
    "wrapper_pansharpen(\n",
    "    pan_name=\"panchr.tif\",\n",
    "    spectral_names=[\"multispectral.tif\"],\n",
    "    dst_filename=\"psh.tif\",\n",
    "    simple_mean=False,\n",
    ")"
   ]
  },
  {
   "cell_type": "code",
   "execution_count": 92,
   "id": "9bc60a53-358d-4bee-ba52-27358f3b6224",
   "metadata": {},
   "outputs": [],
   "source": [
    "# If user selects Simple Mean pansharpening, Thomas Wang's method is applied. Otherwise, gdal_pansharpen() is used\n",
    "def wrapper_pansharpen(\n",
    "    pan_name,\n",
    "    dst_filename,\n",
    "    spectral_names,\n",
    "    simple_mean=True,\n",
    "    band_nums=None,\n",
    "    weights=None,\n",
    "    resampling=None,\n",
    "    spat_adjust=None,\n",
    "    bitdepth=None,\n",
    "    nodata_value=False,\n",
    "):\n",
    "    \"\"\"\n",
    "    Inputs:\n",
    "\n",
    "    This function combines the simple_mean pansharpening developed by Thomas Wang and the pansharpening tools from GDAL.\n",
    "\n",
    "    - pan_name: File path of the higher resolution image to be used for pansharpening\n",
    "    - spectral_names: File path of the coarser image to undergo pansharpening\n",
    "    - band_nums: bands in the coarser image to undergo pansharpening when not applied to the whole dataset\n",
    "    - weights: Specify a weight for the computation of the pseudo panchromatic value. There must be as many -w switches as input spectral bands\n",
    "    - dst_filename: File path of pansharpened dataset to be written to file\n",
    "    - resampling: Select a resampling algorithm (nearest, bilinear, cubic [default], cubicspline, lanczos, average)\n",
    "    - spat_adjust: Select behavior when bands have not the same extent (union [default], intersection, none, nonewithoutwarning)\n",
    "    - bitdepth: Specify the bit depth of the panchromatic and spectral bands (e.g. 12). If not specified, the NBITS metadata item from the panchromatic band will be used if it exists.\n",
    "    - nodata_value: Specify nodata value for bands. Used for the resampling and pan-sharpening computation itself. If not set, deduced from the input bands, provided they have a consistent setting.\n",
    "    - simple_mean: if True, pansharpening is performed using the pansharpen_simple_mean() function. Otherwise, gdal_pansharpen() is selected\n",
    "\n",
    "    \"\"\"\n",
    "    if simple_mean == True:\n",
    "        pansharpen(spectral_names, pan_name, dst_filename, method=\"simple_mean\")\n",
    "    else:\n",
    "        gdal_pansharpen(\n",
    "            pan_name,\n",
    "            [spectral_names],\n",
    "            band_nums,\n",
    "            weights,\n",
    "            dst_filename,\n",
    "            resampling,\n",
    "            spat_adjust,\n",
    "            bitdepth,\n",
    "            nodata_value,\n",
    "        )\n",
    "\n",
    "    return dst_filename"
   ]
  },
  {
   "cell_type": "markdown",
   "id": "4c6356a8-feab-4fbb-a4d2-a4ff990978ee",
   "metadata": {},
   "source": [
    "This function is writing the coordinate system but the rasters are displayed on the equator in ArcGIS. I know what the problem is! The function below is not writing the extent from the panchromatic band to the output. To solve this, I tried to use rasterio.transform (https://rasterio.readthedocs.io/en/latest/api/rasterio.transform.html#rasterio.transform.AffineTransformer) but I got an \"'Affine' object has no attribute 'AffineTransformer'\" error message. I also tried to use rasterio.merge.merge but it also yielded errors and the documentation says 'All files must have the same number of bands', which is not this case as we are trying to stack a multiband raster with a monoband raster. "
   ]
  },
  {
   "cell_type": "code",
   "execution_count": 63,
   "id": "df38d1a9-94a8-4011-beae-a0405ce69d76",
   "metadata": {},
   "outputs": [],
   "source": [
    "# When the user wants to stack the multispectral with the panchromatic bands into one single raster dataset\n",
    "def stack_bands(pan_name, spectral_names, dst_filename):\n",
    "    \"\"\"\n",
    "    Inputs:\n",
    "    - pan_name: File path of the higher resolution image (panchromatic band)\n",
    "    - spectral_names: File path of the pansharpened image\n",
    "    - dst_filename: File path of the stacked dataset\n",
    "    \"\"\"\n",
    "    bands = list()\n",
    "    panchromatic = rioxarray.open_rasterio(pan_name)\n",
    "    multispectral = rioxarray.open_rasterio(spectral_names)\n",
    "\n",
    "    # All the bands are added to a list\n",
    "    bands.append(panchromatic.sel(band=1))\n",
    "\n",
    "    for file in range(multispectral.rio.count):\n",
    "        bands.append(multispectral.sel(band=file + 1))\n",
    "\n",
    "    # The bands are stacked into a single array\n",
    "    bands_array = xr.DataArray(bands)\n",
    "    stack = bands_array.stack()\n",
    "\n",
    "    # Spatial reference\n",
    "    crs = int(panchromatic.rio.crs.to_proj4()[11:])\n",
    "    stack.rio.write_crs(crs, inplace=True).rio.set_spatial_dims(\n",
    "        y_dim=stack.dims[1], x_dim=stack.dims[2]\n",
    "    ).rio.write_coordinate_system(inplace=True)\n",
    "\n",
    "    print(stack.rio.bounds)\n",
    "    print(type(stack))\n",
    "\n",
    "    # The data array is converted to dataset\n",
    "    stack.rio.to_raster(dst_filename)\n",
    "\n",
    "    dstRst = rasterio.open(panchromatic)\n",
    "    srcRst = rasterio.open(dst_filename)\n",
    "    dstCrs = dstRst.crs\n",
    "\n",
    "    transform, width, height = calculate_default_transform(\n",
    "        srcRst.crs, dstCrs, srcRst.width, srcRst.height, *srcRst.bounds\n",
    "    )\n",
    "\n",
    "    srcRst.transform"
   ]
  },
  {
   "cell_type": "code",
   "execution_count": 76,
   "id": "1d91437c-2866-4c89-a9d6-fde46b96659d",
   "metadata": {},
   "outputs": [
    {
     "data": {
      "text/plain": [
       "Affine(14.999999999999998, 0.0, 441787.5,\n",
       "       0.0, -14.999999999999998, 4953922.5)"
      ]
     },
     "execution_count": 76,
     "metadata": {},
     "output_type": "execute_result"
    }
   ],
   "source": [
    "raster = rasterio.open(\"panchr.tif\")\n",
    "transform, width, height = calculate_default_transform(\n",
    "    raster.crs, dstCrs, raster.width, raster.height, *raster.bounds\n",
    ")\n",
    "transform"
   ]
  },
  {
   "cell_type": "code",
   "execution_count": 86,
   "id": "cef6932b-9307-4a83-8023-f58506968241",
   "metadata": {},
   "outputs": [
    {
     "ename": "AttributeError",
     "evalue": "'Affine' object has no attribute 'AffineTransformer'",
     "output_type": "error",
     "traceback": [
      "\u001b[0;31m---------------------------------------------------------------------------\u001b[0m",
      "\u001b[0;31mAttributeError\u001b[0m                            Traceback (most recent call last)",
      "\u001b[0;32m/tmp/ipykernel_457/1378514243.py\u001b[0m in \u001b[0;36m<module>\u001b[0;34m\u001b[0m\n\u001b[1;32m      1\u001b[0m \u001b[0mfile\u001b[0m \u001b[0;34m=\u001b[0m \u001b[0mrasterio\u001b[0m\u001b[0;34m.\u001b[0m\u001b[0mopen\u001b[0m\u001b[0;34m(\u001b[0m\u001b[0;34m\"pan.tif\"\u001b[0m\u001b[0;34m)\u001b[0m\u001b[0;34m\u001b[0m\u001b[0;34m\u001b[0m\u001b[0m\n\u001b[0;32m----> 2\u001b[0;31m \u001b[0mfile\u001b[0m\u001b[0;34m.\u001b[0m\u001b[0mtransform\u001b[0m\u001b[0;34m.\u001b[0m\u001b[0mAffineTransformer\u001b[0m\u001b[0;34m(\u001b[0m\u001b[0mtransform\u001b[0m\u001b[0;34m)\u001b[0m\u001b[0;34m\u001b[0m\u001b[0;34m\u001b[0m\u001b[0m\n\u001b[0m",
      "\u001b[0;31mAttributeError\u001b[0m: 'Affine' object has no attribute 'AffineTransformer'"
     ]
    }
   ],
   "source": [
    "file = rasterio.open(\"pan.tif\")\n",
    "file.transform.AffineTransformer(transform)"
   ]
  },
  {
   "cell_type": "code",
   "execution_count": 82,
   "id": "59221555-d0da-46a0-a27b-c1835bf3708f",
   "metadata": {},
   "outputs": [
    {
     "data": {
      "text/plain": [
       "\u001b[0;31mType:\u001b[0m        module\n",
       "\u001b[0;31mString form:\u001b[0m <module 'rasterio.transform' from '/opt/conda/lib/python3.9/site-packages/rasterio/transform.py'>\n",
       "\u001b[0;31mFile:\u001b[0m        /opt/conda/lib/python3.9/site-packages/rasterio/transform.py\n",
       "\u001b[0;31mDocstring:\u001b[0m   Geospatial transforms\n"
      ]
     },
     "metadata": {},
     "output_type": "display_data"
    }
   ],
   "source": [
    "rasterio.transform?"
   ]
  },
  {
   "cell_type": "markdown",
   "id": "932839b9-18e8-48ab-ae76-d6e605abcd30",
   "metadata": {},
   "source": [
    "I also tried this approach to modify the extent of the output, but it created an empty file at first and now it shows a 'panDstBands[0] = 2 ... out of range for dataset.' error."
   ]
  },
  {
   "cell_type": "code",
   "execution_count": 71,
   "id": "843c6849-0023-4f8e-b63a-be7d0d3c6992",
   "metadata": {},
   "outputs": [
    {
     "name": "stdout",
     "output_type": "stream",
     "text": [
      "source raster crs:\n",
      "EPSG:32615\n",
      "destination raster crs:\n",
      "{'init': 'EPSG:32615'}\n",
      "transform array of source raster\n",
      "| 15.00, 0.00, 441787.50|\n",
      "| 0.00,-15.00, 4953922.50|\n",
      "| 0.00, 0.00, 1.00|\n",
      "transform array of destination raster\n",
      "| 15.00, 0.00, 441787.50|\n",
      "| 0.00,-15.00, 4953922.50|\n",
      "| 0.00, 0.00, 1.00|\n"
     ]
    },
    {
     "ename": "CPLE_IllegalArgError",
     "evalue": "panDstBands[0] = 2 ... out of range for dataset.",
     "output_type": "error",
     "traceback": [
      "\u001b[0;31m---------------------------------------------------------------------------\u001b[0m",
      "\u001b[0;31mCPLE_IllegalArgError\u001b[0m                      Traceback (most recent call last)",
      "\u001b[0;32m/tmp/ipykernel_457/2075969068.py\u001b[0m in \u001b[0;36m<module>\u001b[0;34m\u001b[0m\n\u001b[1;32m     36\u001b[0m \u001b[0;31m# reproject and save raster band data\u001b[0m\u001b[0;34m\u001b[0m\u001b[0;34m\u001b[0m\u001b[0m\n\u001b[1;32m     37\u001b[0m \u001b[0;32mfor\u001b[0m \u001b[0mi\u001b[0m \u001b[0;32min\u001b[0m \u001b[0mrange\u001b[0m\u001b[0;34m(\u001b[0m\u001b[0;36m1\u001b[0m\u001b[0;34m,\u001b[0m \u001b[0msrcRst\u001b[0m\u001b[0;34m.\u001b[0m\u001b[0mcount\u001b[0m \u001b[0;34m+\u001b[0m \u001b[0;36m1\u001b[0m\u001b[0;34m)\u001b[0m\u001b[0;34m:\u001b[0m\u001b[0;34m\u001b[0m\u001b[0;34m\u001b[0m\u001b[0m\n\u001b[0;32m---> 38\u001b[0;31m     reproject(\n\u001b[0m\u001b[1;32m     39\u001b[0m         \u001b[0msource\u001b[0m\u001b[0;34m=\u001b[0m\u001b[0mrasterio\u001b[0m\u001b[0;34m.\u001b[0m\u001b[0mband\u001b[0m\u001b[0;34m(\u001b[0m\u001b[0msrcRst\u001b[0m\u001b[0;34m,\u001b[0m \u001b[0mi\u001b[0m\u001b[0;34m)\u001b[0m\u001b[0;34m,\u001b[0m\u001b[0;34m\u001b[0m\u001b[0;34m\u001b[0m\u001b[0m\n\u001b[1;32m     40\u001b[0m         \u001b[0mdestination\u001b[0m\u001b[0;34m=\u001b[0m\u001b[0mrasterio\u001b[0m\u001b[0;34m.\u001b[0m\u001b[0mband\u001b[0m\u001b[0;34m(\u001b[0m\u001b[0moutput\u001b[0m\u001b[0;34m,\u001b[0m \u001b[0mi\u001b[0m\u001b[0;34m)\u001b[0m\u001b[0;34m,\u001b[0m\u001b[0;34m\u001b[0m\u001b[0;34m\u001b[0m\u001b[0m\n",
      "\u001b[0;32m/opt/conda/lib/python3.9/site-packages/rasterio/env.py\u001b[0m in \u001b[0;36mwrapper\u001b[0;34m(*args, **kwds)\u001b[0m\n\u001b[1;32m    385\u001b[0m         \u001b[0;32melse\u001b[0m\u001b[0;34m:\u001b[0m\u001b[0;34m\u001b[0m\u001b[0;34m\u001b[0m\u001b[0m\n\u001b[1;32m    386\u001b[0m             \u001b[0;32mwith\u001b[0m \u001b[0mEnv\u001b[0m\u001b[0;34m.\u001b[0m\u001b[0mfrom_defaults\u001b[0m\u001b[0;34m(\u001b[0m\u001b[0;34m)\u001b[0m\u001b[0;34m:\u001b[0m\u001b[0;34m\u001b[0m\u001b[0;34m\u001b[0m\u001b[0m\n\u001b[0;32m--> 387\u001b[0;31m                 \u001b[0;32mreturn\u001b[0m \u001b[0mf\u001b[0m\u001b[0;34m(\u001b[0m\u001b[0;34m*\u001b[0m\u001b[0margs\u001b[0m\u001b[0;34m,\u001b[0m \u001b[0;34m**\u001b[0m\u001b[0mkwds\u001b[0m\u001b[0;34m)\u001b[0m\u001b[0;34m\u001b[0m\u001b[0;34m\u001b[0m\u001b[0m\n\u001b[0m\u001b[1;32m    388\u001b[0m     \u001b[0;32mreturn\u001b[0m \u001b[0mwrapper\u001b[0m\u001b[0;34m\u001b[0m\u001b[0;34m\u001b[0m\u001b[0m\n\u001b[1;32m    389\u001b[0m \u001b[0;34m\u001b[0m\u001b[0m\n",
      "\u001b[0;32m/opt/conda/lib/python3.9/site-packages/rasterio/env.py\u001b[0m in \u001b[0;36mwrapper\u001b[0;34m(*args, **kwds)\u001b[0m\n\u001b[1;32m    610\u001b[0m                                 param, full_kwds[param], inequality, version, reason))\n\u001b[1;32m    611\u001b[0m \u001b[0;34m\u001b[0m\u001b[0m\n\u001b[0;32m--> 612\u001b[0;31m             \u001b[0;32mreturn\u001b[0m \u001b[0mf\u001b[0m\u001b[0;34m(\u001b[0m\u001b[0;34m*\u001b[0m\u001b[0margs\u001b[0m\u001b[0;34m,\u001b[0m \u001b[0;34m**\u001b[0m\u001b[0mkwds\u001b[0m\u001b[0;34m)\u001b[0m\u001b[0;34m\u001b[0m\u001b[0;34m\u001b[0m\u001b[0m\n\u001b[0m\u001b[1;32m    613\u001b[0m \u001b[0;34m\u001b[0m\u001b[0m\n\u001b[1;32m    614\u001b[0m         \u001b[0;32mreturn\u001b[0m \u001b[0mwrapper\u001b[0m\u001b[0;34m\u001b[0m\u001b[0;34m\u001b[0m\u001b[0m\n",
      "\u001b[0;32m/opt/conda/lib/python3.9/site-packages/rasterio/warp.py\u001b[0m in \u001b[0;36mreproject\u001b[0;34m(source, destination, src_transform, gcps, rpcs, src_crs, src_nodata, dst_transform, dst_crs, dst_nodata, dst_resolution, src_alpha, dst_alpha, resampling, num_threads, init_dest_nodata, warp_mem_limit, **kwargs)\u001b[0m\n\u001b[1;32m    366\u001b[0m \u001b[0;34m\u001b[0m\u001b[0m\n\u001b[1;32m    367\u001b[0m     \u001b[0;31m# Call the function in our extension module.\u001b[0m\u001b[0;34m\u001b[0m\u001b[0;34m\u001b[0m\u001b[0m\n\u001b[0;32m--> 368\u001b[0;31m     _reproject(\n\u001b[0m\u001b[1;32m    369\u001b[0m         \u001b[0msource\u001b[0m\u001b[0;34m,\u001b[0m \u001b[0mdestination\u001b[0m\u001b[0;34m,\u001b[0m \u001b[0msrc_transform\u001b[0m\u001b[0;34m=\u001b[0m\u001b[0msrc_transform\u001b[0m\u001b[0;34m,\u001b[0m \u001b[0mgcps\u001b[0m\u001b[0;34m=\u001b[0m\u001b[0mgcps\u001b[0m\u001b[0;34m,\u001b[0m \u001b[0mrpcs\u001b[0m\u001b[0;34m=\u001b[0m\u001b[0mrpcs\u001b[0m\u001b[0;34m,\u001b[0m\u001b[0;34m\u001b[0m\u001b[0;34m\u001b[0m\u001b[0m\n\u001b[1;32m    370\u001b[0m         \u001b[0msrc_crs\u001b[0m\u001b[0;34m=\u001b[0m\u001b[0msrc_crs\u001b[0m\u001b[0;34m,\u001b[0m \u001b[0msrc_nodata\u001b[0m\u001b[0;34m=\u001b[0m\u001b[0msrc_nodata\u001b[0m\u001b[0;34m,\u001b[0m \u001b[0mdst_transform\u001b[0m\u001b[0;34m=\u001b[0m\u001b[0mdst_transform\u001b[0m\u001b[0;34m,\u001b[0m\u001b[0;34m\u001b[0m\u001b[0;34m\u001b[0m\u001b[0m\n",
      "\u001b[0;32mrasterio/_warp.pyx\u001b[0m in \u001b[0;36mrasterio._warp._reproject\u001b[0;34m()\u001b[0m\n",
      "\u001b[0;32mrasterio/_err.pyx\u001b[0m in \u001b[0;36mrasterio._err.exc_wrap_int\u001b[0;34m()\u001b[0m\n",
      "\u001b[0;31mCPLE_IllegalArgError\u001b[0m: panDstBands[0] = 2 ... out of range for dataset."
     ]
    }
   ],
   "source": [
    "import rasterio\n",
    "from rasterio.warp import calculate_default_transform, reproject, Resampling\n",
    "\n",
    "# open source raster\n",
    "srcRst = rasterio.open(\"pan.tif\")\n",
    "print(\"source raster crs:\")\n",
    "print(srcRst.crs)\n",
    "\n",
    "dstRst = rasterio.open(\"panchr.tif\")\n",
    "dstCrs = {\"init\": \"EPSG:32615\"}\n",
    "print(\"destination raster crs:\")\n",
    "print(dstCrs)\n",
    "\n",
    "# calculate transform array and shape of reprojected raster\n",
    "transform, width, height = calculate_default_transform(\n",
    "    dstRst.crs, dstCrs, dstRst.width, dstRst.height, *dstRst.bounds\n",
    ")\n",
    "print(\"transform array of source raster\")\n",
    "print(srcRst.transform)\n",
    "\n",
    "print(\"transform array of destination raster\")\n",
    "print(transform)\n",
    "\n",
    "# working of the meta for the destination raster\n",
    "kwargs = dstRst.meta.copy()\n",
    "kwargs.update(\n",
    "    {\n",
    "        \"crs\": dstCrs,\n",
    "        \"transform\": transform,\n",
    "        \"width\": width,\n",
    "        \"height\": height,\n",
    "    }\n",
    ")\n",
    "# open destination raster\n",
    "output = rasterio.open(\"output.tif\", \"w\", **kwargs)\n",
    "# reproject and save raster band data\n",
    "for i in range(1, srcRst.count + 1):\n",
    "    reproject(\n",
    "        source=rasterio.band(srcRst, i),\n",
    "        destination=rasterio.band(output, i),\n",
    "        # src_transform=srcRst.transform,\n",
    "        src_crs=srcRst.crs,\n",
    "        # dst_transform=transform,\n",
    "        dst_crs=dstCrs,\n",
    "        resampling=Resampling.nearest,\n",
    "    )\n",
    "# close destination raster\n",
    "dstRst.close()"
   ]
  },
  {
   "cell_type": "code",
   "execution_count": 45,
   "id": "f8e82f0c-c163-4ed6-91fc-68ba9001cbd8",
   "metadata": {},
   "outputs": [
    {
     "ename": "DatasetIOShapeError",
     "evalue": "Dataset indexes and destination buffer are mismatched",
     "output_type": "error",
     "traceback": [
      "\u001b[0;31m---------------------------------------------------------------------------\u001b[0m",
      "\u001b[0;31mDatasetIOShapeError\u001b[0m                       Traceback (most recent call last)",
      "\u001b[0;32m/tmp/ipykernel_457/543999452.py\u001b[0m in \u001b[0;36m<module>\u001b[0;34m\u001b[0m\n\u001b[0;32m----> 1\u001b[0;31m \u001b[0mmerge\u001b[0m\u001b[0;34m(\u001b[0m\u001b[0;34m[\u001b[0m\u001b[0;34m'panchr.tif'\u001b[0m\u001b[0;34m,\u001b[0m \u001b[0;34m'pan.tif'\u001b[0m\u001b[0;34m]\u001b[0m\u001b[0;34m)\u001b[0m\u001b[0;34m\u001b[0m\u001b[0;34m\u001b[0m\u001b[0m\n\u001b[0m",
      "\u001b[0;32m/opt/conda/lib/python3.9/site-packages/rasterio/merge.py\u001b[0m in \u001b[0;36mmerge\u001b[0;34m(datasets, bounds, res, nodata, dtype, precision, indexes, output_count, resampling, method, target_aligned_pixels, dst_path, dst_kwds)\u001b[0m\n\u001b[1;32m    325\u001b[0m             )\n\u001b[1;32m    326\u001b[0m             \u001b[0mtemp_shape\u001b[0m \u001b[0;34m=\u001b[0m \u001b[0;34m(\u001b[0m\u001b[0msrc_count\u001b[0m\u001b[0;34m,\u001b[0m \u001b[0mtemp_height\u001b[0m\u001b[0;34m,\u001b[0m \u001b[0mtemp_width\u001b[0m\u001b[0;34m)\u001b[0m\u001b[0;34m\u001b[0m\u001b[0;34m\u001b[0m\u001b[0m\n\u001b[0;32m--> 327\u001b[0;31m             temp_src = src.read(\n\u001b[0m\u001b[1;32m    328\u001b[0m                 \u001b[0mout_shape\u001b[0m\u001b[0;34m=\u001b[0m\u001b[0mtemp_shape\u001b[0m\u001b[0;34m,\u001b[0m\u001b[0;34m\u001b[0m\u001b[0;34m\u001b[0m\u001b[0m\n\u001b[1;32m    329\u001b[0m                 \u001b[0mwindow\u001b[0m\u001b[0;34m=\u001b[0m\u001b[0msrc_window_rnd_shp\u001b[0m\u001b[0;34m,\u001b[0m\u001b[0;34m\u001b[0m\u001b[0;34m\u001b[0m\u001b[0m\n",
      "\u001b[0;32mrasterio/_io.pyx\u001b[0m in \u001b[0;36mrasterio._io.DatasetReaderBase.read\u001b[0;34m()\u001b[0m\n",
      "\u001b[0;32mrasterio/_io.pyx\u001b[0m in \u001b[0;36mrasterio._io.DatasetReaderBase._read\u001b[0;34m()\u001b[0m\n",
      "\u001b[0;32mrasterio/shim_rasterioex.pxi\u001b[0m in \u001b[0;36mrasterio._shim.io_multi_band\u001b[0;34m()\u001b[0m\n",
      "\u001b[0;31mDatasetIOShapeError\u001b[0m: Dataset indexes and destination buffer are mismatched"
     ]
    }
   ],
   "source": [
    "merge(['panchr.tif', 'pan.tif'])"
   ]
  },
  {
   "cell_type": "code",
   "execution_count": 99,
   "id": "31e6ff8a-648c-420d-8697-33472b1f5f2e",
   "metadata": {},
   "outputs": [
    {
     "data": {
      "text/plain": [
       "\u001b[0;31mSignature:\u001b[0m\n",
       "\u001b[0mmerge\u001b[0m\u001b[0;34m(\u001b[0m\u001b[0;34m\u001b[0m\n",
       "\u001b[0;34m\u001b[0m    \u001b[0mdatasets\u001b[0m\u001b[0;34m,\u001b[0m\u001b[0;34m\u001b[0m\n",
       "\u001b[0;34m\u001b[0m    \u001b[0mbounds\u001b[0m\u001b[0;34m=\u001b[0m\u001b[0;32mNone\u001b[0m\u001b[0;34m,\u001b[0m\u001b[0;34m\u001b[0m\n",
       "\u001b[0;34m\u001b[0m    \u001b[0mres\u001b[0m\u001b[0;34m=\u001b[0m\u001b[0;32mNone\u001b[0m\u001b[0;34m,\u001b[0m\u001b[0;34m\u001b[0m\n",
       "\u001b[0;34m\u001b[0m    \u001b[0mnodata\u001b[0m\u001b[0;34m=\u001b[0m\u001b[0;32mNone\u001b[0m\u001b[0;34m,\u001b[0m\u001b[0;34m\u001b[0m\n",
       "\u001b[0;34m\u001b[0m    \u001b[0mdtype\u001b[0m\u001b[0;34m=\u001b[0m\u001b[0;32mNone\u001b[0m\u001b[0;34m,\u001b[0m\u001b[0;34m\u001b[0m\n",
       "\u001b[0;34m\u001b[0m    \u001b[0mprecision\u001b[0m\u001b[0;34m=\u001b[0m\u001b[0;32mNone\u001b[0m\u001b[0;34m,\u001b[0m\u001b[0;34m\u001b[0m\n",
       "\u001b[0;34m\u001b[0m    \u001b[0mindexes\u001b[0m\u001b[0;34m=\u001b[0m\u001b[0;32mNone\u001b[0m\u001b[0;34m,\u001b[0m\u001b[0;34m\u001b[0m\n",
       "\u001b[0;34m\u001b[0m    \u001b[0moutput_count\u001b[0m\u001b[0;34m=\u001b[0m\u001b[0;32mNone\u001b[0m\u001b[0;34m,\u001b[0m\u001b[0;34m\u001b[0m\n",
       "\u001b[0;34m\u001b[0m    \u001b[0mresampling\u001b[0m\u001b[0;34m=\u001b[0m\u001b[0;34m<\u001b[0m\u001b[0mResampling\u001b[0m\u001b[0;34m.\u001b[0m\u001b[0mnearest\u001b[0m\u001b[0;34m:\u001b[0m \u001b[0;36m0\u001b[0m\u001b[0;34m>\u001b[0m\u001b[0;34m,\u001b[0m\u001b[0;34m\u001b[0m\n",
       "\u001b[0;34m\u001b[0m    \u001b[0mmethod\u001b[0m\u001b[0;34m=\u001b[0m\u001b[0;34m'first'\u001b[0m\u001b[0;34m,\u001b[0m\u001b[0;34m\u001b[0m\n",
       "\u001b[0;34m\u001b[0m    \u001b[0mtarget_aligned_pixels\u001b[0m\u001b[0;34m=\u001b[0m\u001b[0;32mFalse\u001b[0m\u001b[0;34m,\u001b[0m\u001b[0;34m\u001b[0m\n",
       "\u001b[0;34m\u001b[0m    \u001b[0mdst_path\u001b[0m\u001b[0;34m=\u001b[0m\u001b[0;32mNone\u001b[0m\u001b[0;34m,\u001b[0m\u001b[0;34m\u001b[0m\n",
       "\u001b[0;34m\u001b[0m    \u001b[0mdst_kwds\u001b[0m\u001b[0;34m=\u001b[0m\u001b[0;32mNone\u001b[0m\u001b[0;34m,\u001b[0m\u001b[0;34m\u001b[0m\n",
       "\u001b[0;34m\u001b[0m\u001b[0;34m)\u001b[0m\u001b[0;34m\u001b[0m\u001b[0;34m\u001b[0m\u001b[0m\n",
       "\u001b[0;31mDocstring:\u001b[0m\n",
       "Copy valid pixels from input files to an output file.\n",
       "\n",
       "All files must have the same number of bands, data type, and\n",
       "coordinate reference system.\n",
       "\n",
       "Input files are merged in their listed order using the reverse\n",
       "painter's algorithm (default) or another method. If the output file exists,\n",
       "its values will be overwritten by input values.\n",
       "\n",
       "Geospatial bounds and resolution of a new output file in the\n",
       "units of the input file coordinate reference system may be provided\n",
       "and are otherwise taken from the first input file.\n",
       "\n",
       "Parameters\n",
       "----------\n",
       "datasets : list of dataset objects opened in 'r' mode, filenames or pathlib.Path objects\n",
       "    source datasets to be merged.\n",
       "bounds: tuple, optional\n",
       "    Bounds of the output image (left, bottom, right, top).\n",
       "    If not set, bounds are determined from bounds of input rasters.\n",
       "res: tuple, optional\n",
       "    Output resolution in units of coordinate reference system. If not set,\n",
       "    the resolution of the first raster is used. If a single value is passed,\n",
       "    output pixels will be square.\n",
       "nodata: float, optional\n",
       "    nodata value to use in output file. If not set, uses the nodata value\n",
       "    in the first input raster.\n",
       "dtype: numpy dtype or string\n",
       "    dtype to use in outputfile. If not set, uses the dtype value in the\n",
       "    first input raster.\n",
       "precision: float, optional\n",
       "    Number of decimal points of precision when computing inverse transform.\n",
       "indexes : list of ints or a single int, optional\n",
       "    bands to read and merge\n",
       "output_count: int, optional\n",
       "    If using callable it may be useful to have additional bands in the output\n",
       "    in addition to the indexes specified for read\n",
       "resampling : Resampling, optional\n",
       "    Resampling algorithm used when reading input files.\n",
       "    Default: `Resampling.nearest`.\n",
       "method : str or callable\n",
       "    pre-defined method:\n",
       "        first: reverse painting\n",
       "        last: paint valid new on top of existing\n",
       "        min: pixel-wise min of existing and new\n",
       "        max: pixel-wise max of existing and new\n",
       "    or custom callable with signature:\n",
       "\n",
       "    def function(merged_data, new_data, merged_mask, new_mask, index=None, roff=None, coff=None):\n",
       "\n",
       "        Parameters\n",
       "        ----------\n",
       "        merged_data : array_like\n",
       "            array to update with new_data\n",
       "        new_data : array_like\n",
       "            data to merge\n",
       "            same shape as merged_data\n",
       "        merged_mask, new_mask : array_like\n",
       "            boolean masks where merged/new data pixels are invalid\n",
       "            same shape as merged_data\n",
       "        index: int\n",
       "            index of the current dataset within the merged dataset collection\n",
       "        roff: int\n",
       "            row offset in base array\n",
       "        coff: int\n",
       "            column offset in base array\n",
       "\n",
       "target_aligned_pixels : bool, optional\n",
       "    Whether to adjust output image bounds so that pixel coordinates\n",
       "    are integer multiples of pixel size, matching the ``-tap``\n",
       "    options of GDAL utilities.  Default: False.\n",
       "dst_path : str or Pathlike, optional\n",
       "    Path of output dataset\n",
       "dst_kwds : dict, optional\n",
       "    Dictionary of creation options and other paramters that will be\n",
       "    overlaid on the profile of the output dataset.\n",
       "\n",
       "Returns\n",
       "-------\n",
       "tuple\n",
       "\n",
       "    Two elements:\n",
       "\n",
       "        dest: numpy ndarray\n",
       "            Contents of all input rasters in single array\n",
       "\n",
       "        out_transform: affine.Affine()\n",
       "            Information for mapping pixel coordinates in `dest` to another\n",
       "            coordinate system\n",
       "\u001b[0;31mFile:\u001b[0m      /opt/conda/lib/python3.9/site-packages/rasterio/merge.py\n",
       "\u001b[0;31mType:\u001b[0m      function\n"
      ]
     },
     "metadata": {},
     "output_type": "display_data"
    }
   ],
   "source": [
    "merge?"
   ]
  },
  {
   "cell_type": "code",
   "execution_count": 6,
   "id": "e392a4d2-e0f5-4830-8a95-7e30c6832c75",
   "metadata": {},
   "outputs": [],
   "source": [
    "# List of resampling algorithms included in rasterio\n",
    "resampling_techniques = [\n",
    "    Resampling.nearest,\n",
    "    Resampling.bilinear,\n",
    "    Resampling.cubic,\n",
    "    Resampling.cubic_spline,\n",
    "    Resampling.lanczos,\n",
    "    Resampling.average,\n",
    "    Resampling.mode,\n",
    "    Resampling.gauss,\n",
    "    Resampling.max,\n",
    "    Resampling.min,\n",
    "    Resampling.med,\n",
    "    Resampling.q1,\n",
    "    Resampling.q3,\n",
    "    Resampling.sum,\n",
    "    Resampling.rms,\n",
    "]"
   ]
  },
  {
   "cell_type": "code",
   "execution_count": 7,
   "id": "755b9141-6340-4221-9c4c-2503de357870",
   "metadata": {},
   "outputs": [],
   "source": [
    "# Generates raster overviews\n",
    "def create_pyramids(ds, resampling):\n",
    "    \"\"\"\n",
    "    Inputs:\n",
    "    - ds: File path of pansharpened dataset\n",
    "    - resampling: Select a resampling algorithm\n",
    "    \"\"\"\n",
    "    factors = [2, 4, 8, 16]\n",
    "    for i in resampling_techniques:\n",
    "        if resampling == str(resampling_techniques[i])[11:]:\n",
    "            dst = rasterio.open(ds, \"r+\")\n",
    "            dst.build_overviews(factors, resampling_techniques[i])\n",
    "            dst.update_tags(\n",
    "                ns=\"rio_overview\", resampling=str(resampling_techniques[i])[11:]\n",
    "            )\n",
    "            dst.close()\n",
    "            break  # exit out of loop here"
   ]
  },
  {
   "cell_type": "markdown",
   "id": "73332061-1438-4f43-988d-326b5e4c769c",
   "metadata": {},
   "source": [
    "## Resampling\n",
    "In addition to the pansharpening tool, this project aims to create an up-and-downsampling tool where the users can change (resample) the cell size of their raster datasets without external bands."
   ]
  },
  {
   "cell_type": "markdown",
   "id": "a3589e9b-d8af-40d6-a77a-69183385d535",
   "metadata": {},
   "source": [
    "The next cell was based on https://rasterio.readthedocs.io/en/latest/topics/resampling.html and https://pygis.io/docs/e_raster_resample.html. However, the function was unable to write the output raster successfully."
   ]
  },
  {
   "cell_type": "code",
   "execution_count": 8,
   "id": "18db2c27-e2f6-4bd0-9b4d-84ddd9e6d2c6",
   "metadata": {},
   "outputs": [],
   "source": [
    "def resample(factor, ds, resampling):\n",
    "    \"\"\"\n",
    "    Inputs:\n",
    "    - factor: numeric entry to upsample/downsample the raster\n",
    "    - ds: File path of raster dataset\n",
    "    - resampling: Select a resampling algorithm\n",
    "\n",
    "    \"\"\"\n",
    "    upscale_factor = factor\n",
    "\n",
    "    for i in resampling_techniques:\n",
    "        if r_technique == str(resampling_techniques[i])[11:]:\n",
    "\n",
    "            with rasterio.open(ds) as dataset:\n",
    "\n",
    "                # resample data to target shape\n",
    "                data = dataset.read(\n",
    "                    out_shape=(\n",
    "                        dataset.count,\n",
    "                        int(dataset.height * upscale_factor),\n",
    "                        int(dataset.width * upscale_factor),\n",
    "                    ),\n",
    "                    resampling=resampling_techniques[i],\n",
    "                )\n",
    "\n",
    "                # scale image transform\n",
    "                transform = dataset.transform * dataset.transform.scale(\n",
    "                    (dataset.width / data.shape[-1]), (dataset.height / data.shape[-2])\n",
    "                )\n",
    "\n",
    "                ## Write outputs\n",
    "                # set properties for output\n",
    "                dst_kwargs = dataset.meta.copy()\n",
    "\n",
    "                ### the error source is here\n",
    "                dst_kwargs.update(\n",
    "                    {\n",
    "                        \"crs\": dataset.crs,\n",
    "                        \"transform\": transform,\n",
    "                        \"width\": data.shape[-1],\n",
    "                        \"height\": data.shape[-2],\n",
    "                        \"nodata\": 0,\n",
    "                    }\n",
    "                )\n",
    "\n",
    "                with rasterio.open(\"resampled_raster.tif\", \"w\", **dst_kwargs) as dst:\n",
    "                    # iterate through bands\n",
    "                    for i in range(data.shape[0]):\n",
    "                        dst.write(data[i].astype(rasterio.uint32), i + 1)\n",
    "\n",
    "                break"
   ]
  },
  {
   "cell_type": "markdown",
   "id": "c3f8f613-9f15-466a-87f4-838060e1a24a",
   "metadata": {},
   "source": [
    "A new tool, gdal.Translate(), was found to create the resampled raster successfully. This tool was i) simplified to receive just a few parameters and ii) complemented with the create_pyramids() function. "
   ]
  },
  {
   "cell_type": "markdown",
   "id": "71ca564d-780d-43af-a686-419833d01733",
   "metadata": {},
   "source": [
    "For now, this function is writing an output raster with the cells resized, but it's creating the stats for the input raster instead of the output, and ArcMap shows the pyramids are absent."
   ]
  },
  {
   "cell_type": "code",
   "execution_count": 9,
   "id": "ccc656d3-ece3-4c37-ade7-744bda895f31",
   "metadata": {},
   "outputs": [],
   "source": [
    "def resize(\n",
    "    output_name,\n",
    "    ds,\n",
    "    Res,\n",
    "    resampling,\n",
    "    of,\n",
    "    ot=None,\n",
    "    statistics=False,\n",
    "    pyramids=False,\n",
    "    resampling_pyramids=None,\n",
    "):\n",
    "    \"\"\"\n",
    "    Inputs:\n",
    "    - output_name: File path to the output raster resized\n",
    "    - ds: File path of input dataset\n",
    "    - Res: Set the size of the cells\n",
    "    - resampling: Select a resampling algorithm (nearest [default], bilinear, cubic, cubicspline, lanczos, average, rms, mode)\n",
    "    - of: output format\n",
    "    - ot: output type (Byte, UInt16, Int16, UInt32, Int32, Float32, Float64, CInt16, CInt32, CFloat32 or CFloat64)\n",
    "    - statistics: whether to calculate statistics\n",
    "    - pyramids: whether to calculate pyramids\n",
    "    - resampling_pyramids: resampling algorithm if pyramids == True\n",
    "\n",
    "    \"\"\"\n",
    "\n",
    "    gdal.Translate(\n",
    "        output_name,\n",
    "        ds,\n",
    "        xRes=Res,\n",
    "        yRes=Res,\n",
    "        resampleAlg=resampling,\n",
    "        format=of,\n",
    "        stats=statistics,\n",
    "    )\n",
    "\n",
    "    if pyramids == True:\n",
    "        create_pyramids(output_name, resampling_pyramids)"
   ]
  },
  {
   "cell_type": "code",
   "execution_count": 43,
   "id": "104ff10a-47ad-476f-9527-3de38eb39f2a",
   "metadata": {},
   "outputs": [
    {
     "ename": "TypeError",
     "evalue": "Translate() missing 1 required positional argument: 'srcDS'",
     "output_type": "error",
     "traceback": [
      "\u001b[0;31m---------------------------------------------------------------------------\u001b[0m",
      "\u001b[0;31mTypeError\u001b[0m                                 Traceback (most recent call last)",
      "\u001b[0;32m/tmp/ipykernel_457/97503267.py\u001b[0m in \u001b[0;36m<module>\u001b[0;34m\u001b[0m\n\u001b[1;32m      1\u001b[0m \u001b[0mtifs\u001b[0m \u001b[0;34m=\u001b[0m \u001b[0;34m[\u001b[0m\u001b[0;34m'panchr.tif'\u001b[0m\u001b[0;34m,\u001b[0m \u001b[0;34m'pan.tif'\u001b[0m\u001b[0;34m]\u001b[0m\u001b[0;34m\u001b[0m\u001b[0;34m\u001b[0m\u001b[0m\n\u001b[0;32m----> 2\u001b[0;31m \u001b[0mgdal\u001b[0m\u001b[0;34m.\u001b[0m\u001b[0mTranslate\u001b[0m\u001b[0;34m(\u001b[0m\u001b[0mtifs\u001b[0m\u001b[0;34m,\u001b[0m \u001b[0moutput_name\u001b[0m\u001b[0;34m=\u001b[0m\u001b[0;34m'stack.tif'\u001b[0m\u001b[0;34m,\u001b[0m \u001b[0mformat\u001b[0m \u001b[0;34m=\u001b[0m \u001b[0;34m'GTiff'\u001b[0m\u001b[0;34m)\u001b[0m\u001b[0;34m\u001b[0m\u001b[0;34m\u001b[0m\u001b[0m\n\u001b[0m",
      "\u001b[0;31mTypeError\u001b[0m: Translate() missing 1 required positional argument: 'srcDS'"
     ]
    }
   ],
   "source": [
    "tifs = ['panchr.tif', 'pan.tif']\n",
    "OUTS = \n",
    "gdal.Translate(tifs, output_name='stack.tif', format = 'GTiff')"
   ]
  },
  {
   "cell_type": "code",
   "execution_count": 16,
   "id": "0210082d-66e2-4429-af13-18d1c047bc19",
   "metadata": {},
   "outputs": [
    {
     "data": {
      "text/plain": [
       "\u001b[0;31mSignature:\u001b[0m\n",
       "\u001b[0mgdal\u001b[0m\u001b[0;34m.\u001b[0m\u001b[0mTranslateOptions\u001b[0m\u001b[0;34m(\u001b[0m\u001b[0;34m\u001b[0m\n",
       "\u001b[0;34m\u001b[0m    \u001b[0moptions\u001b[0m\u001b[0;34m=\u001b[0m\u001b[0;32mNone\u001b[0m\u001b[0;34m,\u001b[0m\u001b[0;34m\u001b[0m\n",
       "\u001b[0;34m\u001b[0m    \u001b[0mformat\u001b[0m\u001b[0;34m=\u001b[0m\u001b[0;32mNone\u001b[0m\u001b[0;34m,\u001b[0m\u001b[0;34m\u001b[0m\n",
       "\u001b[0;34m\u001b[0m    \u001b[0moutputType\u001b[0m\u001b[0;34m=\u001b[0m\u001b[0;36m0\u001b[0m\u001b[0;34m,\u001b[0m\u001b[0;34m\u001b[0m\n",
       "\u001b[0;34m\u001b[0m    \u001b[0mbandList\u001b[0m\u001b[0;34m=\u001b[0m\u001b[0;32mNone\u001b[0m\u001b[0;34m,\u001b[0m\u001b[0;34m\u001b[0m\n",
       "\u001b[0;34m\u001b[0m    \u001b[0mmaskBand\u001b[0m\u001b[0;34m=\u001b[0m\u001b[0;32mNone\u001b[0m\u001b[0;34m,\u001b[0m\u001b[0;34m\u001b[0m\n",
       "\u001b[0;34m\u001b[0m    \u001b[0mwidth\u001b[0m\u001b[0;34m=\u001b[0m\u001b[0;36m0\u001b[0m\u001b[0;34m,\u001b[0m\u001b[0;34m\u001b[0m\n",
       "\u001b[0;34m\u001b[0m    \u001b[0mheight\u001b[0m\u001b[0;34m=\u001b[0m\u001b[0;36m0\u001b[0m\u001b[0;34m,\u001b[0m\u001b[0;34m\u001b[0m\n",
       "\u001b[0;34m\u001b[0m    \u001b[0mwidthPct\u001b[0m\u001b[0;34m=\u001b[0m\u001b[0;36m0.0\u001b[0m\u001b[0;34m,\u001b[0m\u001b[0;34m\u001b[0m\n",
       "\u001b[0;34m\u001b[0m    \u001b[0mheightPct\u001b[0m\u001b[0;34m=\u001b[0m\u001b[0;36m0.0\u001b[0m\u001b[0;34m,\u001b[0m\u001b[0;34m\u001b[0m\n",
       "\u001b[0;34m\u001b[0m    \u001b[0mxRes\u001b[0m\u001b[0;34m=\u001b[0m\u001b[0;36m0.0\u001b[0m\u001b[0;34m,\u001b[0m\u001b[0;34m\u001b[0m\n",
       "\u001b[0;34m\u001b[0m    \u001b[0myRes\u001b[0m\u001b[0;34m=\u001b[0m\u001b[0;36m0.0\u001b[0m\u001b[0;34m,\u001b[0m\u001b[0;34m\u001b[0m\n",
       "\u001b[0;34m\u001b[0m    \u001b[0mcreationOptions\u001b[0m\u001b[0;34m=\u001b[0m\u001b[0;32mNone\u001b[0m\u001b[0;34m,\u001b[0m\u001b[0;34m\u001b[0m\n",
       "\u001b[0;34m\u001b[0m    \u001b[0msrcWin\u001b[0m\u001b[0;34m=\u001b[0m\u001b[0;32mNone\u001b[0m\u001b[0;34m,\u001b[0m\u001b[0;34m\u001b[0m\n",
       "\u001b[0;34m\u001b[0m    \u001b[0mprojWin\u001b[0m\u001b[0;34m=\u001b[0m\u001b[0;32mNone\u001b[0m\u001b[0;34m,\u001b[0m\u001b[0;34m\u001b[0m\n",
       "\u001b[0;34m\u001b[0m    \u001b[0mprojWinSRS\u001b[0m\u001b[0;34m=\u001b[0m\u001b[0;32mNone\u001b[0m\u001b[0;34m,\u001b[0m\u001b[0;34m\u001b[0m\n",
       "\u001b[0;34m\u001b[0m    \u001b[0mstrict\u001b[0m\u001b[0;34m=\u001b[0m\u001b[0;32mFalse\u001b[0m\u001b[0;34m,\u001b[0m\u001b[0;34m\u001b[0m\n",
       "\u001b[0;34m\u001b[0m    \u001b[0munscale\u001b[0m\u001b[0;34m=\u001b[0m\u001b[0;32mFalse\u001b[0m\u001b[0;34m,\u001b[0m\u001b[0;34m\u001b[0m\n",
       "\u001b[0;34m\u001b[0m    \u001b[0mscaleParams\u001b[0m\u001b[0;34m=\u001b[0m\u001b[0;32mNone\u001b[0m\u001b[0;34m,\u001b[0m\u001b[0;34m\u001b[0m\n",
       "\u001b[0;34m\u001b[0m    \u001b[0mexponents\u001b[0m\u001b[0;34m=\u001b[0m\u001b[0;32mNone\u001b[0m\u001b[0;34m,\u001b[0m\u001b[0;34m\u001b[0m\n",
       "\u001b[0;34m\u001b[0m    \u001b[0moutputBounds\u001b[0m\u001b[0;34m=\u001b[0m\u001b[0;32mNone\u001b[0m\u001b[0;34m,\u001b[0m\u001b[0;34m\u001b[0m\n",
       "\u001b[0;34m\u001b[0m    \u001b[0mmetadataOptions\u001b[0m\u001b[0;34m=\u001b[0m\u001b[0;32mNone\u001b[0m\u001b[0;34m,\u001b[0m\u001b[0;34m\u001b[0m\n",
       "\u001b[0;34m\u001b[0m    \u001b[0moutputSRS\u001b[0m\u001b[0;34m=\u001b[0m\u001b[0;32mNone\u001b[0m\u001b[0;34m,\u001b[0m\u001b[0;34m\u001b[0m\n",
       "\u001b[0;34m\u001b[0m    \u001b[0mnogcp\u001b[0m\u001b[0;34m=\u001b[0m\u001b[0;32mFalse\u001b[0m\u001b[0;34m,\u001b[0m\u001b[0;34m\u001b[0m\n",
       "\u001b[0;34m\u001b[0m    \u001b[0mGCPs\u001b[0m\u001b[0;34m=\u001b[0m\u001b[0;32mNone\u001b[0m\u001b[0;34m,\u001b[0m\u001b[0;34m\u001b[0m\n",
       "\u001b[0;34m\u001b[0m    \u001b[0mnoData\u001b[0m\u001b[0;34m=\u001b[0m\u001b[0;32mNone\u001b[0m\u001b[0;34m,\u001b[0m\u001b[0;34m\u001b[0m\n",
       "\u001b[0;34m\u001b[0m    \u001b[0mrgbExpand\u001b[0m\u001b[0;34m=\u001b[0m\u001b[0;32mNone\u001b[0m\u001b[0;34m,\u001b[0m\u001b[0;34m\u001b[0m\n",
       "\u001b[0;34m\u001b[0m    \u001b[0mstats\u001b[0m\u001b[0;34m=\u001b[0m\u001b[0;32mFalse\u001b[0m\u001b[0;34m,\u001b[0m\u001b[0;34m\u001b[0m\n",
       "\u001b[0;34m\u001b[0m    \u001b[0mrat\u001b[0m\u001b[0;34m=\u001b[0m\u001b[0;32mTrue\u001b[0m\u001b[0;34m,\u001b[0m\u001b[0;34m\u001b[0m\n",
       "\u001b[0;34m\u001b[0m    \u001b[0mresampleAlg\u001b[0m\u001b[0;34m=\u001b[0m\u001b[0;32mNone\u001b[0m\u001b[0;34m,\u001b[0m\u001b[0;34m\u001b[0m\n",
       "\u001b[0;34m\u001b[0m    \u001b[0mcallback\u001b[0m\u001b[0;34m=\u001b[0m\u001b[0;32mNone\u001b[0m\u001b[0;34m,\u001b[0m\u001b[0;34m\u001b[0m\n",
       "\u001b[0;34m\u001b[0m    \u001b[0mcallback_data\u001b[0m\u001b[0;34m=\u001b[0m\u001b[0;32mNone\u001b[0m\u001b[0;34m,\u001b[0m\u001b[0;34m\u001b[0m\n",
       "\u001b[0;34m\u001b[0m\u001b[0;34m)\u001b[0m\u001b[0;34m\u001b[0m\u001b[0;34m\u001b[0m\u001b[0m\n",
       "\u001b[0;31mDocstring:\u001b[0m\n",
       "Create a TranslateOptions() object that can be passed to gdal.Translate()\n",
       "Keyword arguments are :\n",
       "  options --- can be be an array of strings, a string or let empty and filled from other keywords.\n",
       "  format --- output format (\"GTiff\", etc...)\n",
       "  outputType --- output type (gdalconst.GDT_Byte, etc...)\n",
       "  bandList --- array of band numbers (index start at 1)\n",
       "  maskBand --- mask band to generate or not (\"none\", \"auto\", \"mask\", 1, ...)\n",
       "  width --- width of the output raster in pixel\n",
       "  height --- height of the output raster in pixel\n",
       "  widthPct --- width of the output raster in percentage (100 = original width)\n",
       "  heightPct --- height of the output raster in percentage (100 = original height)\n",
       "  xRes --- output horizontal resolution\n",
       "  yRes --- output vertical resolution\n",
       "  creationOptions --- list of creation options\n",
       "  srcWin --- subwindow in pixels to extract: [left_x, top_y, width, height]\n",
       "  projWin --- subwindow in projected coordinates to extract: [ulx, uly, lrx, lry]\n",
       "  projWinSRS --- SRS in which projWin is expressed\n",
       "  strict --- strict mode\n",
       "  unscale --- unscale values with scale and offset metadata\n",
       "  scaleParams --- list of scale parameters, each of the form [src_min,src_max] or [src_min,src_max,dst_min,dst_max]\n",
       "  exponents --- list of exponentiation parameters\n",
       "  outputBounds --- assigned output bounds: [ulx, uly, lrx, lry]\n",
       "  metadataOptions --- list of metadata options\n",
       "  outputSRS --- assigned output SRS\n",
       "  nogcp --- ignore GCP in the raster\n",
       "  GCPs --- list of GCPs\n",
       "  noData --- nodata value (or \"none\" to unset it)\n",
       "  rgbExpand --- Color palette expansion mode: \"gray\", \"rgb\", \"rgba\"\n",
       "  stats --- whether to calculate statistics\n",
       "  rat --- whether to write source RAT\n",
       "  resampleAlg --- resampling mode\n",
       "  callback --- callback method\n",
       "  callback_data --- user data for callback\n",
       "\u001b[0;31mFile:\u001b[0m      /opt/conda/lib/python3.9/site-packages/osgeo/gdal.py\n",
       "\u001b[0;31mType:\u001b[0m      function\n"
      ]
     },
     "metadata": {},
     "output_type": "display_data"
    }
   ],
   "source": [
    "gdal.TranslateOptions?"
   ]
  }
 ],
 "metadata": {
  "kernelspec": {
   "display_name": "Python 3 (ipykernel)",
   "language": "python",
   "name": "python3"
  },
  "language_info": {
   "codemirror_mode": {
    "name": "ipython",
    "version": 3
   },
   "file_extension": ".py",
   "mimetype": "text/x-python",
   "name": "python",
   "nbconvert_exporter": "python",
   "pygments_lexer": "ipython3",
   "version": "3.9.7"
  }
 },
 "nbformat": 4,
 "nbformat_minor": 5
}
