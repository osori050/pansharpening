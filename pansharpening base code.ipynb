{
 "cells": [
  {
   "cell_type": "code",
   "execution_count": 1,
   "id": "5762ac2f-fce6-4e2c-848f-7786bb8ff609",
   "metadata": {},
   "outputs": [],
   "source": [
    "import cv2\n",
    "import gc\n",
    "import numpy as np\n",
    "import rasterio\n",
    "\n",
    "def pansharpen(m, pan, psh):\n",
    "    \"\"\" \n",
    "    This function is used to pansharpen a given multispectral image using its corresponding panchromatic image via one of \n",
    "    the following algorithms: 'simple_brovey, simple_mean, esri, brovey'.\n",
    "  \n",
    "    Inputs:\n",
    "    - m: File path of multispectral image to undergo pansharpening\n",
    "    - pan: File path of panchromatic image to be used for pansharpening\n",
    "    - psh: File path of pansharpened multispectral image to be written to file\n",
    "    - R: Band number of red band in the multispectral image\n",
    "    - G: Band number of green band in the multispectral image\n",
    "    - B: Band number of blue band in the multispectral image\n",
    "    - NIR: Band number of near - infrared band in the multispectral image\n",
    "    - method: Method to be used for pansharpening\n",
    "    - W: Weight value to be used for brovey pansharpening methods\n",
    "  \n",
    "    Outputs:\n",
    "    - img_psh: Pansharpened multispectral image\n",
    "  \n",
    "    \"\"\"\n",
    "  \n",
    "    with rasterio.open(m) as f:\n",
    "        metadata_ms = f.profile\n",
    "        img_ms = np.transpose(f.read(tuple(np.arange(metadata_ms['count']) + 1)), [1, 2, 0])\n",
    "    \n",
    "    with rasterio.open(pan) as g:\n",
    "        metadata_pan = g.profile\n",
    "        img_pan = g.read(1)\n",
    "    \n",
    "\n",
    "  \n",
    "    ms_to_pan_ratio = metadata_ms['transform'][0] / metadata_pan['transform'][0]\n",
    "    rescaled_ms = cv2.resize(img_ms, dsize = None, fx = ms_to_pan_ratio, fy = ms_to_pan_ratio, \n",
    "                             interpolation = cv2.INTER_CUBIC).astype(metadata_ms['dtype'])\n",
    "\n",
    "  \n",
    "    if img_pan.shape[0] < rescaled_ms.shape[0]:\n",
    "        ms_row_bigger = True\n",
    "        rescaled_ms = rescaled_ms[: img_pan.shape[0], :, :]\n",
    "    else:\n",
    "        ms_row_bigger = False\n",
    "        img_pan = img_pan[: rescaled_ms.shape[0], :]\n",
    "        \n",
    "    if img_pan.shape[1] < rescaled_ms.shape[1]:\n",
    "        ms_column_bigger = True\n",
    "        rescaled_ms = rescaled_ms[:, : img_pan.shape[1], :]\n",
    "    else:\n",
    "        ms_column_bigger = False\n",
    "        img_pan = img_pan[:, : rescaled_ms.shape[1]]\n",
    "  \n",
    "    del img_ms; gc.collect()\n",
    "  \n",
    "  \n",
    "    if ms_row_bigger == True and ms_column_bigger == True:\n",
    "        img_psh = np.zeros((img_pan.shape[0], img_pan.shape[1], rescaled_ms.shape[2]), dtype = metadata_pan['dtype'])\n",
    "    elif ms_row_bigger == False and ms_column_bigger == True:\n",
    "        img_psh = np.zeros((rescaled_ms.shape[0], img_pan.shape[1], rescaled_ms.shape[2]), dtype = metadata_pan['dtype'])\n",
    "        metadata_pan['height'] = rescaled_ms.shape[0]\n",
    "    elif ms_row_bigger == True and ms_column_bigger == False:\n",
    "        img_psh = np.zeros((img_pan.shape[0], rescaled_ms.shape[1], rescaled_ms.shape[2]), dtype = metadata_pan['dtype'])\n",
    "        metadata_pan['width'] = rescaled_ms.shape[1]\n",
    "    else:\n",
    "        img_psh = np.zeros((rescaled_ms.shape), dtype = metadata_pan['dtype'])\n",
    "        metadata_pan['height'] = rescaled_ms.shape[0]\n",
    "        metadata_pan['width'] = rescaled_ms.shape[1]\n",
    "       \n",
    "  \n",
    "    # if method == 'simple_mean':\n",
    "    for band in range(rescaled_ms.shape[2]):\n",
    "        img_psh[:, :, band] = 0.5 * (rescaled_ms[:, :, band] + img_pan)\n",
    "         \n",
    "  \n",
    "    del img_pan, rescaled_ms; gc.collect()\n",
    "  \n",
    "    \n",
    "    metadata_pan['count'] = img_psh.shape[2]\n",
    "    with rasterio.open(psh, 'w', **metadata_pan) as dst:\n",
    "        dst.write(np.transpose(img_psh, [2, 0, 1]))\n",
    "  \n",
    "    return img_psh"
   ]
  },
  {
   "cell_type": "code",
   "execution_count": null,
   "id": "9bc60a53-358d-4bee-ba52-27358f3b6224",
   "metadata": {},
   "outputs": [],
   "source": [
    "pansharpen('multispectral/Landsat.tif', 'panchromatic.tif', 'pan2.tif')"
   ]
  },
  {
   "cell_type": "code",
   "execution_count": 3,
   "id": "d102b65b-fc31-4fa4-9f39-999125fce4b0",
   "metadata": {},
   "outputs": [],
   "source": [
    "from osgeo_utils.gdal_pansharpen import gdal_pansharpen\n",
    "from osgeo import gdal\n",
    "from osgeo_utils import gdal_pansharpen"
   ]
  },
  {
   "cell_type": "code",
   "execution_count": 4,
   "id": "30cfe1b0-178a-4c79-80cb-68bf5b936164",
   "metadata": {},
   "outputs": [
    {
     "data": {
      "text/plain": [
       "\u001b[0;31mSignature:\u001b[0m\n",
       "\u001b[0mgdal_pansharpen\u001b[0m\u001b[0;34m.\u001b[0m\u001b[0mgdal_pansharpen\u001b[0m\u001b[0;34m(\u001b[0m\u001b[0;34m\u001b[0m\n",
       "\u001b[0;34m\u001b[0m    \u001b[0margv\u001b[0m\u001b[0;34m:\u001b[0m \u001b[0mOptional\u001b[0m\u001b[0;34m[\u001b[0m\u001b[0mSequence\u001b[0m\u001b[0;34m[\u001b[0m\u001b[0mstr\u001b[0m\u001b[0;34m]\u001b[0m\u001b[0;34m]\u001b[0m \u001b[0;34m=\u001b[0m \u001b[0;32mNone\u001b[0m\u001b[0;34m,\u001b[0m\u001b[0;34m\u001b[0m\n",
       "\u001b[0;34m\u001b[0m    \u001b[0mpan_name\u001b[0m\u001b[0;34m:\u001b[0m \u001b[0mOptional\u001b[0m\u001b[0;34m[\u001b[0m\u001b[0mstr\u001b[0m\u001b[0;34m]\u001b[0m \u001b[0;34m=\u001b[0m \u001b[0;32mNone\u001b[0m\u001b[0;34m,\u001b[0m\u001b[0;34m\u001b[0m\n",
       "\u001b[0;34m\u001b[0m    \u001b[0mspectral_names\u001b[0m\u001b[0;34m:\u001b[0m \u001b[0mOptional\u001b[0m\u001b[0;34m[\u001b[0m\u001b[0mSequence\u001b[0m\u001b[0;34m[\u001b[0m\u001b[0mstr\u001b[0m\u001b[0;34m]\u001b[0m\u001b[0;34m]\u001b[0m \u001b[0;34m=\u001b[0m \u001b[0;32mNone\u001b[0m\u001b[0;34m,\u001b[0m\u001b[0;34m\u001b[0m\n",
       "\u001b[0;34m\u001b[0m    \u001b[0mspectral_ds\u001b[0m\u001b[0;34m:\u001b[0m \u001b[0mOptional\u001b[0m\u001b[0;34m[\u001b[0m\u001b[0mList\u001b[0m\u001b[0;34m[\u001b[0m\u001b[0mosgeo\u001b[0m\u001b[0;34m.\u001b[0m\u001b[0mgdal\u001b[0m\u001b[0;34m.\u001b[0m\u001b[0mDataset\u001b[0m\u001b[0;34m]\u001b[0m\u001b[0;34m]\u001b[0m \u001b[0;34m=\u001b[0m \u001b[0;32mNone\u001b[0m\u001b[0;34m,\u001b[0m\u001b[0;34m\u001b[0m\n",
       "\u001b[0;34m\u001b[0m    \u001b[0mspectral_bands\u001b[0m\u001b[0;34m:\u001b[0m \u001b[0mOptional\u001b[0m\u001b[0;34m[\u001b[0m\u001b[0mList\u001b[0m\u001b[0;34m[\u001b[0m\u001b[0mosgeo\u001b[0m\u001b[0;34m.\u001b[0m\u001b[0mgdal\u001b[0m\u001b[0;34m.\u001b[0m\u001b[0mBand\u001b[0m\u001b[0;34m]\u001b[0m\u001b[0;34m]\u001b[0m \u001b[0;34m=\u001b[0m \u001b[0;32mNone\u001b[0m\u001b[0;34m,\u001b[0m\u001b[0;34m\u001b[0m\n",
       "\u001b[0;34m\u001b[0m    \u001b[0mband_nums\u001b[0m\u001b[0;34m:\u001b[0m \u001b[0mOptional\u001b[0m\u001b[0;34m[\u001b[0m\u001b[0mSequence\u001b[0m\u001b[0;34m[\u001b[0m\u001b[0mint\u001b[0m\u001b[0;34m]\u001b[0m\u001b[0;34m]\u001b[0m \u001b[0;34m=\u001b[0m \u001b[0;32mNone\u001b[0m\u001b[0;34m,\u001b[0m\u001b[0;34m\u001b[0m\n",
       "\u001b[0;34m\u001b[0m    \u001b[0mweights\u001b[0m\u001b[0;34m:\u001b[0m \u001b[0mOptional\u001b[0m\u001b[0;34m[\u001b[0m\u001b[0mSequence\u001b[0m\u001b[0;34m[\u001b[0m\u001b[0mfloat\u001b[0m\u001b[0;34m]\u001b[0m\u001b[0;34m]\u001b[0m \u001b[0;34m=\u001b[0m \u001b[0;32mNone\u001b[0m\u001b[0;34m,\u001b[0m\u001b[0;34m\u001b[0m\n",
       "\u001b[0;34m\u001b[0m    \u001b[0mdst_filename\u001b[0m\u001b[0;34m:\u001b[0m \u001b[0mOptional\u001b[0m\u001b[0;34m[\u001b[0m\u001b[0mstr\u001b[0m\u001b[0;34m]\u001b[0m \u001b[0;34m=\u001b[0m \u001b[0;32mNone\u001b[0m\u001b[0;34m,\u001b[0m\u001b[0;34m\u001b[0m\n",
       "\u001b[0;34m\u001b[0m    \u001b[0mdriver_name\u001b[0m\u001b[0;34m:\u001b[0m \u001b[0mOptional\u001b[0m\u001b[0;34m[\u001b[0m\u001b[0mstr\u001b[0m\u001b[0;34m]\u001b[0m \u001b[0;34m=\u001b[0m \u001b[0;32mNone\u001b[0m\u001b[0;34m,\u001b[0m\u001b[0;34m\u001b[0m\n",
       "\u001b[0;34m\u001b[0m    \u001b[0mcreation_options\u001b[0m\u001b[0;34m:\u001b[0m \u001b[0mOptional\u001b[0m\u001b[0;34m[\u001b[0m\u001b[0mSequence\u001b[0m\u001b[0;34m[\u001b[0m\u001b[0mstr\u001b[0m\u001b[0;34m]\u001b[0m\u001b[0;34m]\u001b[0m \u001b[0;34m=\u001b[0m \u001b[0;32mNone\u001b[0m\u001b[0;34m,\u001b[0m\u001b[0;34m\u001b[0m\n",
       "\u001b[0;34m\u001b[0m    \u001b[0mresampling\u001b[0m\u001b[0;34m:\u001b[0m \u001b[0mOptional\u001b[0m\u001b[0;34m[\u001b[0m\u001b[0mstr\u001b[0m\u001b[0;34m]\u001b[0m \u001b[0;34m=\u001b[0m \u001b[0;32mNone\u001b[0m\u001b[0;34m,\u001b[0m\u001b[0;34m\u001b[0m\n",
       "\u001b[0;34m\u001b[0m    \u001b[0mspat_adjust\u001b[0m\u001b[0;34m:\u001b[0m \u001b[0mOptional\u001b[0m\u001b[0;34m[\u001b[0m\u001b[0mstr\u001b[0m\u001b[0;34m]\u001b[0m \u001b[0;34m=\u001b[0m \u001b[0;32mNone\u001b[0m\u001b[0;34m,\u001b[0m\u001b[0;34m\u001b[0m\n",
       "\u001b[0;34m\u001b[0m    \u001b[0mnum_threads\u001b[0m\u001b[0;34m:\u001b[0m \u001b[0mUnion\u001b[0m\u001b[0;34m[\u001b[0m\u001b[0mstr\u001b[0m\u001b[0;34m,\u001b[0m \u001b[0mint\u001b[0m\u001b[0;34m,\u001b[0m \u001b[0mNoneType\u001b[0m\u001b[0;34m]\u001b[0m \u001b[0;34m=\u001b[0m \u001b[0;32mNone\u001b[0m\u001b[0;34m,\u001b[0m\u001b[0;34m\u001b[0m\n",
       "\u001b[0;34m\u001b[0m    \u001b[0mbitdepth\u001b[0m\u001b[0;34m:\u001b[0m \u001b[0mUnion\u001b[0m\u001b[0;34m[\u001b[0m\u001b[0mstr\u001b[0m\u001b[0;34m,\u001b[0m \u001b[0mint\u001b[0m\u001b[0;34m,\u001b[0m \u001b[0mNoneType\u001b[0m\u001b[0;34m]\u001b[0m \u001b[0;34m=\u001b[0m \u001b[0;32mNone\u001b[0m\u001b[0;34m,\u001b[0m\u001b[0;34m\u001b[0m\n",
       "\u001b[0;34m\u001b[0m    \u001b[0mnodata_value\u001b[0m\u001b[0;34m:\u001b[0m \u001b[0mUnion\u001b[0m\u001b[0;34m[\u001b[0m\u001b[0mnumbers\u001b[0m\u001b[0;34m.\u001b[0m\u001b[0mReal\u001b[0m\u001b[0;34m,\u001b[0m \u001b[0mstr\u001b[0m\u001b[0;34m,\u001b[0m \u001b[0mNoneType\u001b[0m\u001b[0;34m]\u001b[0m \u001b[0;34m=\u001b[0m \u001b[0;32mNone\u001b[0m\u001b[0;34m,\u001b[0m\u001b[0;34m\u001b[0m\n",
       "\u001b[0;34m\u001b[0m    \u001b[0mverbose_vrt\u001b[0m\u001b[0;34m:\u001b[0m \u001b[0mbool\u001b[0m \u001b[0;34m=\u001b[0m \u001b[0;32mFalse\u001b[0m\u001b[0;34m,\u001b[0m\u001b[0;34m\u001b[0m\n",
       "\u001b[0;34m\u001b[0m    \u001b[0mprogress_callback\u001b[0m\u001b[0;34m:\u001b[0m \u001b[0mOptional\u001b[0m \u001b[0;34m=\u001b[0m \u001b[0;34m<\u001b[0m\u001b[0mfunction\u001b[0m \u001b[0mTermProgress_nocb\u001b[0m \u001b[0mat\u001b[0m \u001b[0;36m0x7fbba34ff940\u001b[0m\u001b[0;34m>\u001b[0m\u001b[0;34m,\u001b[0m\u001b[0;34m\u001b[0m\n",
       "\u001b[0;34m\u001b[0m\u001b[0;34m)\u001b[0m\u001b[0;34m\u001b[0m\u001b[0;34m\u001b[0m\u001b[0m\n",
       "\u001b[0;31mDocstring:\u001b[0m <no docstring>\n",
       "\u001b[0;31mFile:\u001b[0m      /opt/conda/lib/python3.9/site-packages/osgeo_utils/gdal_pansharpen.py\n",
       "\u001b[0;31mType:\u001b[0m      function\n"
      ]
     },
     "metadata": {},
     "output_type": "display_data"
    }
   ],
   "source": [
    "gdal_pansharpen.gdal_pansharpen?"
   ]
  },
  {
   "cell_type": "code",
   "execution_count": 6,
   "id": "ec5e0b77-e87d-43ab-9155-48ddbc821764",
   "metadata": {},
   "outputs": [],
   "source": [
    "%load_ext lab_black"
   ]
  },
  {
   "cell_type": "code",
   "execution_count": null,
   "id": "a6e603fb-d1ad-46f1-b9ad-704248c91b0b",
   "metadata": {},
   "outputs": [],
   "source": [
    "pansharpen = gdal_pansharpen.gdal_pansharpen(\n",
    "    pan_name=\"panchromatic.tif\",\n",
    "    spectral_names=[\"multispectral/Landsat.tif\"],\n",
    "    dst_filename=\"pansharpened_Landsat.tif\",\n",
    "    resampling=\"nearest\",\n",
    "    nodata_value=None,\n",
    ")"
   ]
  },
  {
   "cell_type": "code",
   "execution_count": null,
   "id": "134a95ae-4305-435e-a64e-d5ba9ee77bd8",
   "metadata": {},
   "outputs": [],
   "source": []
  }
 ],
 "metadata": {
  "kernelspec": {
   "display_name": "Python 3 (ipykernel)",
   "language": "python",
   "name": "python3"
  },
  "language_info": {
   "codemirror_mode": {
    "name": "ipython",
    "version": 3
   },
   "file_extension": ".py",
   "mimetype": "text/x-python",
   "name": "python",
   "nbconvert_exporter": "python",
   "pygments_lexer": "ipython3",
   "version": "3.9.7"
  }
 },
 "nbformat": 4,
 "nbformat_minor": 5
}
