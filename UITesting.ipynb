{
 "cells": [
  {
   "cell_type": "markdown",
   "metadata": {},
   "source": [
    "### User Interface Code"
   ]
  },
  {
   "cell_type": "code",
   "execution_count": 5,
   "metadata": {},
   "outputs": [],
   "source": [
    "from tkinter import *\n",
    "\n",
    "# Create Window to populate\n",
    "window=Tk()\n",
    "window.geometry(\"500x200\")\n",
    "window.title(\"Pansharpening Tool\")\n",
    "\n",
    "# Title label\n",
    "Title_label = Label(window,text=\"Pansharpening Options\", fg=\"black\",bg=\"white\",\n",
    "relief = \"solid\",font=(\"arial\",18,)).grid(row = 0,column=0)\n",
    "\n",
    "# Options Window Label\n",
    "Options_Label = Label(window, text = \"Options\", relief=RAISED)\n",
    "Options_Label.grid(row=1,column=0)\n",
    "\n",
    "# Resampling Technique Header\n",
    "Resample_Label = Label(window, text = \"Resampling Technique\", relief=RAISED)\n",
    "Resample_Label.grid(row=2,column=0)\n",
    "\n",
    "# Output Filename\n",
    "Output_Label = Label(window, text = \"Output Filename\", relief=RAISED)\n",
    "Output_Label.grid(row=3,column=0)\n",
    "txt = Entry(window,width=20)\n",
    "txt.grid(row=3, column = 1)\n",
    "\n",
    "# Text input for filename\n",
    "def click():\n",
    "    res =\"Output Filename: \"+txt.get()\n",
    "    Output_Label.configure(text=res)\n",
    "\n",
    "# Run Button\n",
    "Run_button=Button(window,text=\"Run\",fg = \"white\",bg=\"black\", relief = RIDGE, font=(\"arial\",12,\"bold\"))\n",
    "Run_button.grid(row=5, column = 1)\n",
    "\n",
    "window.mainloop()"
   ]
  },
  {
   "cell_type": "markdown",
   "metadata": {},
   "source": [
    "### Code Sources\n",
    "\n",
    "https://docs.python.org/3/library/tkinter.html\n",
    "\n",
    "https://www.youtube.com/watch?v=ls3BAhPV06M&ab_channel=ProgrammingKnowledge\n",
    "\n",
    "https://www.youtube.com/watch?v=LsSimyks8jE&ab_channel=SmartProgrammer"
   ]
  }
 ],
 "metadata": {
  "kernelspec": {
   "display_name": "Python 3 (ipykernel)",
   "language": "python",
   "name": "python3"
  },
  "language_info": {
   "codemirror_mode": {
    "name": "ipython",
    "version": 3
   },
   "file_extension": ".py",
   "mimetype": "text/x-python",
   "name": "python",
   "nbconvert_exporter": "python",
   "pygments_lexer": "ipython3",
   "version": "3.9.7"
  },
  "vscode": {
   "interpreter": {
    "hash": "4715918c293ef0d371b4142a7e0b27f744b74eabc2a141461e7af6523bf0a76c"
   }
  }
 },
 "nbformat": 4,
 "nbformat_minor": 4
}
